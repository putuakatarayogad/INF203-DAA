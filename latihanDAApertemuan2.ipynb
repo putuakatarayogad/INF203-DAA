{
  "nbformat": 4,
  "nbformat_minor": 0,
  "metadata": {
    "colab": {
      "provenance": []
    },
    "kernelspec": {
      "name": "python3",
      "display_name": "Python 3"
    },
    "language_info": {
      "name": "python"
    }
  },
  "cells": [
    {
      "cell_type": "code",
      "execution_count": null,
      "metadata": {
        "colab": {
          "base_uri": "https://localhost:8080/"
        },
        "id": "_uZo6yOSnEgo",
        "outputId": "c225c1c9-498b-4685-d461-5fac75a34eae"
      },
      "outputs": [
        {
          "output_type": "stream",
          "name": "stdout",
          "text": [
            "[1, 2, 3, 4, 5, 6]\n",
            "2.0.2\n",
            "90\n",
            "Hello, World!\n",
            "Nama saya (isi nama)\n",
            "NIM saya (isi NIM)\n",
            "Five is greater than two!\n",
            "5\n",
            "John\n"
          ]
        }
      ],
      "source": [
        "import numpy as np\n",
        "\n",
        "a = [1,2,3]\n",
        "b = [4,5,6]\n",
        "\n",
        "hasil = a + b\n",
        "print(hasil)\n",
        "\n",
        "def add(list_a, list_b):\n",
        "  result = []\n",
        "  for first, second in zip(list_a, list_b):\n",
        "    result.append(first + second)\n",
        "  for i in result:\n",
        "    x+=i\n",
        "  return i\n",
        "  print(add(a,b))\n",
        "\n",
        "my_list = [1,2,3]\n",
        "panjang_list = len(my_list)\n",
        "print(panjang_list)\n",
        "\n",
        "print(my_list[len(my_list)-1])\n",
        "\n",
        "print(np.__version__)\n",
        "\n",
        "#membuat array\n",
        "nilai_siswa = np.array([85, 55, 40, 90])\n",
        "\n",
        "#mengakses data array\n",
        "print(nilai_siswa[3])\n",
        "\n",
        "#latihan\n",
        "print(\"Hello, World!\")\n",
        "print(\"Nama saya (isi nama)\")\n",
        "print(\"NIM saya (isi NIM)\")\n",
        "\n",
        "#latihan\n",
        "if 5>2:\n",
        "  print(\"Five is greater than two!\")\n",
        "\n",
        "#latihan\n",
        "x = 5\n",
        "y = \"John\"\n",
        "print(x)\n",
        "print(y)"
      ]
    },
    {
      "cell_type": "code",
      "source": [
        "x = 4\n",
        "x = \"Sally\"\n",
        "print(x)\n",
        "\n",
        "def getFirst(myList):\n",
        "  return myList[0]\n",
        "\n",
        "getFirst([1,2,3])\n",
        "getFirst([1,2,3,4,5,6,7,8,9,10])\n",
        "\n",
        "def getSecond(myList):\n",
        "    return myList[1]\n",
        "\n",
        "print(getSecond([1,2,3]))\n",
        "print(getSecond([1,2,3,4,5,6]))\n",
        "\n",
        "def getLast(myList):\n",
        "    return myList[-1]\n",
        "\n",
        "print(getLast([1,2,3]))\n",
        "print(getLast([1,2,3,4,5,6,7,8]))"
      ],
      "metadata": {
        "colab": {
          "base_uri": "https://localhost:8080/"
        },
        "id": "62_3-2Zl4G89",
        "outputId": "7fbd7b15-c045-4ab0-c8a5-ca96b88fd2f1"
      },
      "execution_count": 1,
      "outputs": [
        {
          "output_type": "stream",
          "name": "stdout",
          "text": [
            "Sally\n",
            "2\n",
            "2\n"
          ]
        }
      ]
    },
    {
      "cell_type": "code",
      "source": [
        "import math\n",
        "\n",
        "def getKali(myList):\n",
        "    return math.prod(myList)\n",
        "\n",
        "print(getKali([1,2,3,4]))\n",
        "print(getKali([2,5,10]))\n",
        "\n",
        "def getBagi(myList):\n",
        "    if not myList:\n",
        "        return None\n",
        "    hasil = myList[0]\n",
        "    for angka in myList[1:]:\n",
        "        hasil /= angka\n",
        "    return hasil\n",
        "\n",
        "print(getBagi([100, 2, 5]))\n",
        "print(getBagi([50, 5, 2]))"
      ],
      "metadata": {
        "id": "GD7A8hxr6Do4"
      },
      "execution_count": 1,
      "outputs": []
    },
    {
      "cell_type": "code",
      "source": [
        "def getSum(myList):\n",
        "    return sum(myList)\n",
        "\n",
        "def getBagiHimpunan(set1, set2):\n",
        "    sum1 = getSum(set1)\n",
        "    sum2 = getSum(set2)\n",
        "    if sum2 == 0:\n",
        "        return None\n",
        "    return sum1 / sum2\n",
        "\n",
        "# Contoh penggunaan\n",
        "print(getBagiHimpunan([1,2,3], [4,5,6]))   # (1+2+3) ÷ (4+5+6) = 6 ÷ 15 = 0.4\n",
        "print(getBagiHimpunan([10,20,30], [5,5]))  # 60 ÷ 10 = 6.0"
      ],
      "metadata": {
        "id": "sSjbWdyX7fBf"
      },
      "execution_count": null,
      "outputs": []
    },
    {
      "cell_type": "code",
      "source": [
        "def getSum(myList):\n",
        "    return sum(myList)\n",
        "\n",
        "def getKurangHimpunan(set1, set2):\n",
        "    sum1 = getSum(set1)\n",
        "    sum2 = getSum(set2)\n",
        "    return sum1 - sum2\n",
        "\n",
        "# Contoh penggunaan\n",
        "print(getKurangHimpunan([1, 2, 3], [4, 5, 6]))   # (1+2+3) - (4+5+6) = 6 - 15 = -9\n",
        "print(getKurangHimpunan([10, 20, 30], [5, 5]))  # 60 - 10 = 50\n"
      ],
      "metadata": {
        "id": "gmTUGw-s7lc-"
      },
      "execution_count": null,
      "outputs": []
    }
  ]
}