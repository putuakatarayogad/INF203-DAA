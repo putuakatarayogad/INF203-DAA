{
 "cells": [
  {
   "cell_type": "code",
   "execution_count": 1,
   "id": "5ba4a9ae",
   "metadata": {},
   "outputs": [
    {
     "name": "stdout",
     "output_type": "stream",
     "text": [
      "['John', 33, 'Toronto', True]\n"
     ]
    }
   ],
   "source": [
    "aList = [\"John\", 33, \"Toronto\", True]\n",
    "print(aList)"
   ]
  },
  {
   "cell_type": "code",
   "execution_count": null,
   "id": "ed29ae30",
   "metadata": {},
   "outputs": [
    {
     "name": "stdout",
     "output_type": "stream",
     "text": [
      "['Putu Akatara Yoga Dhaniswara', 20250070002, 'Informatika', 'DAA', datetime.date(2025, 9, 15), 'UPJ']\n"
     ]
    }
   ],
   "source": [
    "from datetime import date\n",
    "\n",
    "today = date.today()\n",
    "\n",
    "#mahasiswa : nama, nim, prodi, mata kuliah, tanggal hari ini, universitas\n",
    "mahasiswa = [\"Putu Akatara Yoga Dhaniswara\", 20250070002, \"Informatika\", \"DAA\", today, \"UPJ\"]\n",
    "print(mahasiswa)"
   ]
  },
  {
   "cell_type": "code",
   "execution_count": null,
   "id": "4a109fa7",
   "metadata": {},
   "outputs": [],
   "source": [
    "print(\"NIM\", mahasiswa[1])\n",
    "print(\"Kampus\", mahasiswa[5])"
   ]
  },
  {
   "cell_type": "code",
   "execution_count": 10,
   "id": "20c0b445",
   "metadata": {},
   "outputs": [
    {
     "name": "stdout",
     "output_type": "stream",
     "text": [
      "Prodi ['Informatika']\n"
     ]
    }
   ],
   "source": [
    "print(\"Prodi\", mahasiswa[2:3])"
   ]
  },
  {
   "cell_type": "code",
   "execution_count": 12,
   "id": "dbd237ce",
   "metadata": {},
   "outputs": [
    {
     "name": "stdout",
     "output_type": "stream",
     "text": [
      "(100, (200, 400, 300), 100)\n"
     ]
    }
   ],
   "source": [
    "nested = (100, (200,400,300), 100)\n",
    "print(nested)"
   ]
  },
  {
   "cell_type": "code",
   "execution_count": 15,
   "id": "61a4fdb4",
   "metadata": {},
   "outputs": [
    {
     "name": "stdout",
     "output_type": "stream",
     "text": [
      "{'Nama': 'Putu Akatara Yoga Dhaniswara', 'NIM': 20250070002, 'Prodi': 'Informatika', 'Universitas': 'UPJ'}\n"
     ]
    },
    {
     "data": {
      "text/plain": [
       "20250070002"
      ]
     },
     "execution_count": 15,
     "metadata": {},
     "output_type": "execute_result"
    }
   ],
   "source": [
    "dictionary = {\"Nama\" : \"Putu Akatara Yoga Dhaniswara\", \"NIM\" : 20250070002, \"Prodi\" : \"Informatika\", \"Universitas\" : \"UPJ\"}\n",
    "print(dictionary)\n",
    "\n",
    "dictionary.get(\"NIM\")"
   ]
  },
  {
   "cell_type": "code",
   "execution_count": 1,
   "id": "b4bc92f6",
   "metadata": {},
   "outputs": [
    {
     "data": {
      "text/plain": [
       "['Red', 'Green']"
      ]
     },
     "execution_count": 1,
     "metadata": {},
     "output_type": "execute_result"
    }
   ],
   "source": [
    "bin_colors = [\"Red\", \"Green\", \"Blue\", \"Yellow\"]\n",
    "bin_colors[0:2]"
   ]
  },
  {
   "cell_type": "code",
   "execution_count": 2,
   "id": "983c688e",
   "metadata": {},
   "outputs": [
    {
     "name": "stdout",
     "output_type": "stream",
     "text": [
      "RedSquare\n",
      "GreenSquare\n",
      "BlueSquare\n",
      "YellowSquare\n"
     ]
    }
   ],
   "source": [
    "for aColor in bin_colors:\n",
    "    print(aColor + \"Square\")"
   ]
  },
  {
   "cell_type": "code",
   "execution_count": 5,
   "id": "21547af5",
   "metadata": {},
   "outputs": [
    {
     "name": "stdout",
     "output_type": "stream",
     "text": [
      "UPJ ['Putu Akatara Yoga Dhaniswara', 20250070002, 'Informatika', 'DAA', 'UPJ']\n"
     ]
    }
   ],
   "source": [
    "mahasiswa = [\"Putu Akatara Yoga Dhaniswara\", 20250070002, \"Informatika\", \"DAA\", \"UPJ\"]\n",
    "print(f\"UPJ {mahasiswa}\")"
   ]
  },
  {
   "cell_type": "code",
   "execution_count": 6,
   "id": "3ffc98bb",
   "metadata": {},
   "outputs": [
    {
     "name": "stdout",
     "output_type": "stream",
     "text": [
      "('Universitas', 'Pembangunan', 'Jaya')\n"
     ]
    }
   ],
   "source": [
    "UPJ = (\"Universitas\", \"Pembangunan\", \"Jaya\")\n",
    "print(UPJ)"
   ]
  },
  {
   "cell_type": "code",
   "execution_count": null,
   "id": "98ce3f8d",
   "metadata": {},
   "outputs": [
    {
     "name": "stdout",
     "output_type": "stream",
     "text": [
      "Data Mahasiswa per Prodi:\n",
      "[{'No': 1, 'Prodi': 'Informatika', 'Mahasiswa': 50, 'Laki-laki': 30, 'Perempuan': 20}, {'No': 2, 'Prodi': 'Sistem Informasi', 'Mahasiswa': 55, 'Laki-laki': 30, 'Perempuan': 25}, {'No': 3, 'Prodi': 'Teknik Sipil', 'Mahasiswa': 40, 'Laki-laki': 30, 'Perempuan': 10}]\n",
      "\n",
      "Data Prodi Informatika:\n",
      "Jumlah mahasiswa: 50\n",
      "Jumlah perempuan: 20\n",
      "\n",
      "Data Prodi Teknik Sipil:\n",
      "Jumlah laki-laki: 30\n"
     ]
    }
   ],
   "source": [
    "data_mahasiswa_prodi = [\n",
    "    {\n",
    "        \"No\": 1,\n",
    "        \"Prodi\": \"Informatika\",\n",
    "        \"Mahasiswa\": 50,\n",
    "        \"Laki-laki\": 30,\n",
    "        \"Perempuan\": 20\n",
    "    },\n",
    "    {\n",
    "        \"No\": 2,\n",
    "        \"Prodi\": \"Sistem Informasi\",\n",
    "        \"Mahasiswa\": 55,\n",
    "        \"Laki-laki\": 30,\n",
    "        \"Perempuan\": 25\n",
    "    },\n",
    "    {\n",
    "        \"No\": 3,\n",
    "        \"Prodi\": \"Teknik Sipil\",\n",
    "        \"Mahasiswa\": 40,\n",
    "        \"Laki-laki\": 30,\n",
    "        \"Perempuan\": 10\n",
    "    }\n",
    "]\n",
    "\n",
    "# print seluruh data\n",
    "print(\"Data Mahasiswa per Prodi:\")\n",
    "print(data_mahasiswa_prodi)\n",
    "\n",
    "# Contoh cara mengakses data:\n",
    "# Mengakses data dari Prodi Informatika (index 0)\n",
    "prodi_informatika = data_mahasiswa_prodi[0]\n",
    "print(\"\\nData Prodi Informatika:\")\n",
    "print(f\"Jumlah mahasiswa: {prodi_informatika['Mahasiswa']}\")\n",
    "print(f\"Jumlah perempuan: {prodi_informatika['Perempuan']}\")\n",
    "\n",
    "# Mengakses data dari Prodi Teknik Sipil (index 2)\n",
    "prodi_teknik_sipil = data_mahasiswa_prodi[2]\n",
    "print(\"\\nData Prodi Teknik Sipil:\")\n",
    "print(f\"Jumlah laki-laki: {prodi_teknik_sipil['Laki-laki']}\")"
   ]
  },
  {
   "cell_type": "code",
   "execution_count": 9,
   "id": "47988a81",
   "metadata": {},
   "outputs": [
    {
     "name": "stdout",
     "output_type": "stream",
     "text": [
      "[[ 100  200  300]\n",
      " [ 700  600  500]\n",
      " [ 900 1000  800]]\n",
      "[[ 100  700  900]\n",
      " [ 200  600 1000]\n",
      " [ 300  500  800]]\n"
     ]
    }
   ],
   "source": [
    "import numpy as np\n",
    "\n",
    "A = np.array([[100, 200, 300],\n",
    "              [700, 600, 500],\n",
    "              [900, 1000, 800]])\n",
    "\n",
    "print(A)\n",
    "\n",
    "AT = A.T\n",
    "\n",
    "print(AT)"
   ]
  }
 ],
 "metadata": {
  "kernelspec": {
   "display_name": "Python 3",
   "language": "python",
   "name": "python3"
  },
  "language_info": {
   "codemirror_mode": {
    "name": "ipython",
    "version": 3
   },
   "file_extension": ".py",
   "mimetype": "text/x-python",
   "name": "python",
   "nbconvert_exporter": "python",
   "pygments_lexer": "ipython3",
   "version": "3.11.9"
  }
 },
 "nbformat": 4,
 "nbformat_minor": 5
}
